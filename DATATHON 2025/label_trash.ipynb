{
 "cells": [
  {
   "cell_type": "markdown",
   "id": "e96908b8",
   "metadata": {},
   "source": [
    "# Trash Dataset Labeling Script\n",
    "\n",
    "This script processes XML annotation files for the trash dataset and creates a CSV file with standardized labels:\n",
    "- Main Category: \"Public Cleanliness & Public Property Damage\"\n",
    "- Sub Category: \"Garbage Dumping\""
   ]
  },
  {
   "cell_type": "code",
   "execution_count": 1,
   "id": "510d60df",
   "metadata": {},
   "outputs": [
    {
     "name": "stdout",
     "output_type": "stream",
     "text": [
      "Processing XML annotations from: Trash/annotation/trash annotated\n",
      "Image base directory: Trash/trash/trash\n",
      "Output CSV file: trash_labels.csv\n"
     ]
    }
   ],
   "source": [
    "# Setup (unchanged parts omitted)\n",
    "import xml.etree.ElementTree as ET\n",
    "import csv, os\n",
    "from pathlib import Path\n",
    "\n",
    "annotation_dir = \"Trash/annotation/trash annotated\"\n",
    "# Directory where the actual image files are stored:\n",
    "# If images are in the same folder as XMLs, set image_base_dir = annotation_dir\n",
    "# If they are in Trash/images, set as below.\n",
    "image_base_dir = \"Trash/trash/trash\"\n",
    "\n",
    "output_csv = \"trash_labels.csv\"\n",
    "\n",
    "main_category = \"Public Cleanliness & Public Property Damage\"\n",
    "sub_category = \"Garbage Dumping\"\n",
    "\n",
    "store_absolute_paths = True  # set False to keep as relative\n",
    "\n",
    "print(f\"Processing XML annotations from: {annotation_dir}\")\n",
    "print(f\"Image base directory: {image_base_dir}\")\n",
    "print(f\"Output CSV file: {output_csv}\")"
   ]
  },
  {
   "cell_type": "code",
   "execution_count": 2,
   "id": "2a932dbd",
   "metadata": {},
   "outputs": [],
   "source": [
    "# Updated parser returning full image path\n",
    "def parse_xml_annotation(xml_file_path: Path):\n",
    "    \"\"\"\n",
    "    Parse a Pascal VOC XML annotation file and extract full image path and objects.\n",
    "    \"\"\"\n",
    "    try:\n",
    "        tree = ET.parse(xml_file_path)\n",
    "        root = tree.getroot()\n",
    "\n",
    "        filename_node = root.find('filename')\n",
    "        if filename_node is None or not filename_node.text:\n",
    "            return None, []\n",
    "\n",
    "        filename = filename_node.text.strip()\n",
    "\n",
    "        # Construct candidate image paths\n",
    "        base_dir_path = Path(image_base_dir)\n",
    "        candidates = [\n",
    "            base_dir_path / filename,                 # preferred (configured image dir)\n",
    "            xml_file_path.parent / filename           # fallback: same dir as XML\n",
    "        ]\n",
    "\n",
    "        image_path = None\n",
    "        for c in candidates:\n",
    "            if c.exists():\n",
    "                image_path = c\n",
    "                break\n",
    "\n",
    "        # If not found, still build from base_dir (will be non-existent but recorded)\n",
    "        if image_path is None:\n",
    "            image_path = candidates[0]\n",
    "\n",
    "        if store_absolute_paths:\n",
    "            image_path_str = str(image_path.resolve())\n",
    "        else:\n",
    "            # Store path relative to project root (current working directory)\n",
    "            try:\n",
    "                image_path_str = str(image_path.resolve().relative_to(Path.cwd()))\n",
    "            except ValueError:\n",
    "                image_path_str = str(image_path)\n",
    "        \n",
    "        objects = [obj.find('name').text.strip()\n",
    "                   for obj in root.findall('object')\n",
    "                   if obj.find('name') is not None and obj.find('name').text]\n",
    "\n",
    "        return image_path_str, objects\n",
    "\n",
    "    except ET.ParseError as e:\n",
    "        print(f\"Parse error: {xml_file_path} -> {e}\")\n",
    "        return None, []\n",
    "    except Exception as e:\n",
    "        print(f\"Unexpected error: {xml_file_path} -> {e}\")\n",
    "        return None, []"
   ]
  },
  {
   "cell_type": "code",
   "execution_count": 3,
   "id": "f85ccacf",
   "metadata": {},
   "outputs": [
    {
     "name": "stdout",
     "output_type": "stream",
     "text": [
      "Test image path: C:\\Users\\lchat\\One Drive-UoM\\OneDrive - University of Moratuwa\\Datathon-2025-\\DATATHON 2025\\Trash\\trash\\trash\\Datacluster Trash (1).jpg\n",
      "Objects: ['Domestic Trash\\tGarbage']\n"
     ]
    }
   ],
   "source": [
    "# Test one file (adjust name if needed)\n",
    "from pathlib import Path\n",
    "\n",
    "test_xml = Path(annotation_dir) / \"Datacluster Trash (1).xml\"\n",
    "if test_xml.exists():\n",
    "    img_path, objects = parse_xml_annotation(test_xml)\n",
    "    print(f\"Test image path: {img_path}\")\n",
    "    print(f\"Objects: {objects}\")\n",
    "else:\n",
    "    print(f\"Test file not found: {test_xml}\")"
   ]
  },
  {
   "cell_type": "code",
   "execution_count": 4,
   "id": "7d3e82e0",
   "metadata": {},
   "outputs": [
    {
     "name": "stdout",
     "output_type": "stream",
     "text": [
      "Found 248 XML files\n",
      "Processed 248 unique images\n"
     ]
    }
   ],
   "source": [
    "# Process all XML files\n",
    "processed_images = set()\n",
    "results = []\n",
    "\n",
    "annotation_path = Path(annotation_dir)\n",
    "xml_files = list(annotation_path.glob(\"*.xml\"))\n",
    "print(f\"Found {len(xml_files)} XML files\")\n",
    "\n",
    "for xml_file in xml_files:\n",
    "    img_path, objects = parse_xml_annotation(xml_file)\n",
    "    if img_path and img_path not in processed_images:\n",
    "        processed_images.add(img_path)\n",
    "        results.append({\n",
    "            'image_file': img_path,  # now full path\n",
    "            'main_category': main_category,\n",
    "            'sub_category': sub_category,\n",
    "            'detected_objects': '; '.join(objects) if objects else 'No objects detected'\n",
    "        })\n",
    "\n",
    "print(f\"Processed {len(results)} unique images\")"
   ]
  },
  {
   "cell_type": "code",
   "execution_count": 5,
   "id": "140e7c5c",
   "metadata": {},
   "outputs": [
    {
     "name": "stdout",
     "output_type": "stream",
     "text": [
      "\n",
      "CSV file 'trash_labels.csv' created successfully!\n",
      "Total images labeled: 248\n",
      "\n",
      "Sample of first 5 entries:\n",
      "1. Datacluster Trash (1).jpg -> Public Cleanliness & Public Property Damage | Garbage Dumping\n",
      "2. Datacluster Trash (10).jpg -> Public Cleanliness & Public Property Damage | Garbage Dumping\n",
      "3. Datacluster Trash (100).jpg -> Public Cleanliness & Public Property Damage | Garbage Dumping\n",
      "4. Datacluster Trash (101).jpg -> Public Cleanliness & Public Property Damage | Garbage Dumping\n",
      "5. Datacluster Trash (102).jpg -> Public Cleanliness & Public Property Damage | Garbage Dumping\n"
     ]
    }
   ],
   "source": [
    "# Write results to CSV\n",
    "with open(output_csv, 'w', newline='', encoding='utf-8') as csvfile:\n",
    "    fieldnames = ['image_file', 'main_category', 'sub_category', 'detected_objects']\n",
    "    writer = csv.DictWriter(csvfile, fieldnames=fieldnames)\n",
    "    \n",
    "    # Write header\n",
    "    writer.writeheader()\n",
    "    \n",
    "    # Write data rows\n",
    "    for result in results:\n",
    "        writer.writerow(result)\n",
    "\n",
    "print(f\"\\nCSV file '{output_csv}' created successfully!\")\n",
    "print(f\"Total images labeled: {len(results)}\")\n",
    "print(f\"\\nSample of first 5 entries:\")\n",
    "for i, result in enumerate(results[:5]):\n",
    "    print(f\"{i+1}. {result['image_file']} -> {result['main_category']} | {result['sub_category']}\")"
   ]
  },
  {
   "cell_type": "code",
   "execution_count": 5,
   "id": "a2609e3a",
   "metadata": {},
   "outputs": [
    {
     "name": "stdout",
     "output_type": "stream",
     "text": [
      "CSV 'trash_labels.csv' written. Sample first 3 rows:\n",
      "{'image_file': 'C:\\\\Users\\\\lchat\\\\One Drive-UoM\\\\OneDrive - University of Moratuwa\\\\Datathon-2025-\\\\DATATHON 2025\\\\Trash\\\\trash\\\\trash\\\\Datacluster Trash (1).jpg', 'main_category': 'Public Cleanliness & Public Property Damage', 'sub_category': 'Garbage Dumping', 'detected_objects': 'Domestic Trash\\tGarbage'}\n",
      "{'image_file': 'C:\\\\Users\\\\lchat\\\\One Drive-UoM\\\\OneDrive - University of Moratuwa\\\\Datathon-2025-\\\\DATATHON 2025\\\\Trash\\\\trash\\\\trash\\\\Datacluster Trash (10).jpg', 'main_category': 'Public Cleanliness & Public Property Damage', 'sub_category': 'Garbage Dumping', 'detected_objects': 'trash'}\n",
      "{'image_file': 'C:\\\\Users\\\\lchat\\\\One Drive-UoM\\\\OneDrive - University of Moratuwa\\\\Datathon-2025-\\\\DATATHON 2025\\\\Trash\\\\trash\\\\trash\\\\Datacluster Trash (100).jpg', 'main_category': 'Public Cleanliness & Public Property Damage', 'sub_category': 'Garbage Dumping', 'detected_objects': 'trash'}\n"
     ]
    }
   ],
   "source": [
    "# Write CSV\n",
    "with open(output_csv, 'w', newline='', encoding='utf-8') as csvfile:\n",
    "    fieldnames = ['image_file', 'main_category', 'sub_category', 'detected_objects']\n",
    "    writer = csv.DictWriter(csvfile, fieldnames=fieldnames)\n",
    "    writer.writeheader()\n",
    "    for row in results:\n",
    "        writer.writerow(row)\n",
    "\n",
    "print(f\"CSV '{output_csv}' written. Sample first 3 rows:\")\n",
    "for r in results[:3]:\n",
    "    print(r)"
   ]
  },
  {
   "cell_type": "code",
   "execution_count": 6,
   "id": "6c487c31",
   "metadata": {},
   "outputs": [
    {
     "name": "stdout",
     "output_type": "stream",
     "text": [
      "\n",
      "=== SUMMARY ===\n",
      "Total XML files found: 248\n",
      "Total unique images processed: 248\n",
      "Main category assigned to all images: Public Cleanliness & Public Property Damage\n",
      "Sub category assigned to all images: Garbage Dumping\n",
      "\n",
      "Detected object types and their frequencies:\n",
      "  - trash: 240 images\n",
      "  - dw: 13 images\n",
      "  - Domestic Trash\tGarbage: 1 images\n"
     ]
    }
   ],
   "source": [
    "# Display summary statistics\n",
    "print(\"\\n=== SUMMARY ===\")\n",
    "print(f\"Total XML files found: {len(xml_files)}\")\n",
    "print(f\"Total unique images processed: {len(results)}\")\n",
    "print(f\"Main category assigned to all images: {main_category}\")\n",
    "print(f\"Sub category assigned to all images: {sub_category}\")\n",
    "\n",
    "# Show distribution of detected object types (for information)\n",
    "all_objects = []\n",
    "for result in results:\n",
    "    if result['detected_objects'] != 'No objects detected':\n",
    "        objects = result['detected_objects'].split('; ')\n",
    "        all_objects.extend(objects)\n",
    "\n",
    "if all_objects:\n",
    "    from collections import Counter\n",
    "    object_counts = Counter(all_objects)\n",
    "    print(f\"\\nDetected object types and their frequencies:\")\n",
    "    for obj_type, count in object_counts.most_common():\n",
    "        print(f\"  - {obj_type}: {count} images\")\n",
    "else:\n",
    "    print(\"\\nNo specific object types detected in annotations\")"
   ]
  },
  {
   "cell_type": "code",
   "execution_count": 7,
   "id": "9c025ad9",
   "metadata": {},
   "outputs": [],
   "source": [
    "import pandas as pd\n",
    "trash_labels = pd.read_csv(output_csv)"
   ]
  },
  {
   "cell_type": "code",
   "execution_count": 12,
   "id": "04e2e9b0",
   "metadata": {},
   "outputs": [],
   "source": [
    "trash_labels.to_csv('trash_labels_cleaned.csv', index=False)\n"
   ]
  },
  {
   "cell_type": "code",
   "execution_count": 9,
   "id": "e7f04cbb",
   "metadata": {},
   "outputs": [],
   "source": [
    "trash_labels.drop(columns=['detected_objects'], inplace=True)  # Drop the detected_objects column if not needed"
   ]
  },
  {
   "cell_type": "code",
   "execution_count": 11,
   "id": "52ea7b0c",
   "metadata": {},
   "outputs": [
    {
     "data": {
      "text/html": [
       "<div>\n",
       "<style scoped>\n",
       "    .dataframe tbody tr th:only-of-type {\n",
       "        vertical-align: middle;\n",
       "    }\n",
       "\n",
       "    .dataframe tbody tr th {\n",
       "        vertical-align: top;\n",
       "    }\n",
       "\n",
       "    .dataframe thead th {\n",
       "        text-align: right;\n",
       "    }\n",
       "</style>\n",
       "<table border=\"1\" class=\"dataframe\">\n",
       "  <thead>\n",
       "    <tr style=\"text-align: right;\">\n",
       "      <th></th>\n",
       "      <th>image_file</th>\n",
       "      <th>main_category</th>\n",
       "      <th>sub_category</th>\n",
       "    </tr>\n",
       "  </thead>\n",
       "  <tbody>\n",
       "    <tr>\n",
       "      <th>0</th>\n",
       "      <td>Datacluster Trash (1).jpg</td>\n",
       "      <td>Public Cleanliness &amp; Public Property Damage</td>\n",
       "      <td>Garbage Dumping</td>\n",
       "    </tr>\n",
       "    <tr>\n",
       "      <th>1</th>\n",
       "      <td>Datacluster Trash (10).jpg</td>\n",
       "      <td>Public Cleanliness &amp; Public Property Damage</td>\n",
       "      <td>Garbage Dumping</td>\n",
       "    </tr>\n",
       "    <tr>\n",
       "      <th>2</th>\n",
       "      <td>Datacluster Trash (100).jpg</td>\n",
       "      <td>Public Cleanliness &amp; Public Property Damage</td>\n",
       "      <td>Garbage Dumping</td>\n",
       "    </tr>\n",
       "    <tr>\n",
       "      <th>3</th>\n",
       "      <td>Datacluster Trash (101).jpg</td>\n",
       "      <td>Public Cleanliness &amp; Public Property Damage</td>\n",
       "      <td>Garbage Dumping</td>\n",
       "    </tr>\n",
       "    <tr>\n",
       "      <th>4</th>\n",
       "      <td>Datacluster Trash (102).jpg</td>\n",
       "      <td>Public Cleanliness &amp; Public Property Damage</td>\n",
       "      <td>Garbage Dumping</td>\n",
       "    </tr>\n",
       "    <tr>\n",
       "      <th>...</th>\n",
       "      <td>...</td>\n",
       "      <td>...</td>\n",
       "      <td>...</td>\n",
       "    </tr>\n",
       "    <tr>\n",
       "      <th>243</th>\n",
       "      <td>Datacluster Trash (95).jpg</td>\n",
       "      <td>Public Cleanliness &amp; Public Property Damage</td>\n",
       "      <td>Garbage Dumping</td>\n",
       "    </tr>\n",
       "    <tr>\n",
       "      <th>244</th>\n",
       "      <td>Datacluster Trash (96).jpg</td>\n",
       "      <td>Public Cleanliness &amp; Public Property Damage</td>\n",
       "      <td>Garbage Dumping</td>\n",
       "    </tr>\n",
       "    <tr>\n",
       "      <th>245</th>\n",
       "      <td>Datacluster Trash (97).jpg</td>\n",
       "      <td>Public Cleanliness &amp; Public Property Damage</td>\n",
       "      <td>Garbage Dumping</td>\n",
       "    </tr>\n",
       "    <tr>\n",
       "      <th>246</th>\n",
       "      <td>Datacluster Trash (98).jpg</td>\n",
       "      <td>Public Cleanliness &amp; Public Property Damage</td>\n",
       "      <td>Garbage Dumping</td>\n",
       "    </tr>\n",
       "    <tr>\n",
       "      <th>247</th>\n",
       "      <td>Datacluster Trash (99).jpg</td>\n",
       "      <td>Public Cleanliness &amp; Public Property Damage</td>\n",
       "      <td>Garbage Dumping</td>\n",
       "    </tr>\n",
       "  </tbody>\n",
       "</table>\n",
       "<p>248 rows × 3 columns</p>\n",
       "</div>"
      ],
      "text/plain": [
       "                      image_file                                main_category  \\\n",
       "0      Datacluster Trash (1).jpg  Public Cleanliness & Public Property Damage   \n",
       "1     Datacluster Trash (10).jpg  Public Cleanliness & Public Property Damage   \n",
       "2    Datacluster Trash (100).jpg  Public Cleanliness & Public Property Damage   \n",
       "3    Datacluster Trash (101).jpg  Public Cleanliness & Public Property Damage   \n",
       "4    Datacluster Trash (102).jpg  Public Cleanliness & Public Property Damage   \n",
       "..                           ...                                          ...   \n",
       "243   Datacluster Trash (95).jpg  Public Cleanliness & Public Property Damage   \n",
       "244   Datacluster Trash (96).jpg  Public Cleanliness & Public Property Damage   \n",
       "245   Datacluster Trash (97).jpg  Public Cleanliness & Public Property Damage   \n",
       "246   Datacluster Trash (98).jpg  Public Cleanliness & Public Property Damage   \n",
       "247   Datacluster Trash (99).jpg  Public Cleanliness & Public Property Damage   \n",
       "\n",
       "        sub_category  \n",
       "0    Garbage Dumping  \n",
       "1    Garbage Dumping  \n",
       "2    Garbage Dumping  \n",
       "3    Garbage Dumping  \n",
       "4    Garbage Dumping  \n",
       "..               ...  \n",
       "243  Garbage Dumping  \n",
       "244  Garbage Dumping  \n",
       "245  Garbage Dumping  \n",
       "246  Garbage Dumping  \n",
       "247  Garbage Dumping  \n",
       "\n",
       "[248 rows x 3 columns]"
      ]
     },
     "execution_count": 11,
     "metadata": {},
     "output_type": "execute_result"
    }
   ],
   "source": [
    "trash_labels"
   ]
  }
 ],
 "metadata": {
  "kernelspec": {
   "display_name": "base",
   "language": "python",
   "name": "python3"
  },
  "language_info": {
   "codemirror_mode": {
    "name": "ipython",
    "version": 3
   },
   "file_extension": ".py",
   "mimetype": "text/x-python",
   "name": "python",
   "nbconvert_exporter": "python",
   "pygments_lexer": "ipython3",
   "version": "3.12.3"
  }
 },
 "nbformat": 4,
 "nbformat_minor": 5
}
